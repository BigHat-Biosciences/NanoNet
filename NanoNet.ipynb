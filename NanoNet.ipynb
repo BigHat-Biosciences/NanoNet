{
  "nbformat": 4,
  "nbformat_minor": 0,
  "metadata": {
    "colab": {
      "name": "NanoNet.ipynb",
      "provenance": [],
      "collapsed_sections": []
    },
    "kernelspec": {
      "name": "python3",
      "display_name": "Python 3"
    },
    "language_info": {
      "name": "python"
    }
  },
  "cells": [
    {
      "cell_type": "markdown",
      "metadata": {
        "id": "SUYvebOq_Md4"
      },
      "source": [
        "#NanoNet\n",
        "NanoNet is a novel deep learning-based end-to-end modeling tool that given a \n",
        "sequence directly produces the 3D coordinates of the Cβ atoms of the entire VH domain.\n",
        "It can be used in order to predict structures of nanobodies, VH regions of mAbs and VB regions of TCRs.\n",
        "\n",
        "The source code and the trained model can be found [here](https://github.com/deepmind/alphafold)\n",
        "\n",
        "**Note**: If you are predicting many structures in a single run, it is recomanded that you use the option 'write_into_single_pdb_file'. this will write all the predicted structures into a single PDB file and reduce running time and space.\n",
        "\n",
        "\n",
        "<strong>for Citation use: </strong> [NanoNet paper](https://www.biorxiv.org/content/10.1101/2021.08.03.454917v1) (preprint)\n"
      ]
    },
    {
      "cell_type": "code",
      "metadata": {
        "id": "BilLGqKyB6Fj",
        "cellView": "form"
      },
      "source": [
        "#@title Input Nb sequence/Nb fasta file (creates a Nb structure for each entry in the fasta file)\n",
        "from google.colab import files\n",
        "import re\n",
        "import os\n",
        "\n",
        "protein = 'TCR VB' #@param [\"Nb/mAb heavy chain\", \"TCR VB\"]\n",
        "input_type = 'Sequence (String)' #@param [\"Sequence (String)\", \"Fasta file\"]\n",
        "input_nb = 'QLVETGGGLVQSGGSLRLSCAASGFTLDNYNIGWFRQAPGKEYGGVSCISSSDGSTYYADSVKGRFTISRDNAKNTVYLQMNNLKPEDTDVYYCAATKYGSSCPIRPYDYWGQGTQVT' #@param {type:\"string\"}\n",
        "output_dir = 'NanoNetResults' #@param {type:\"string\"}\n",
        "\n",
        "# remove whitespaces\n",
        "output_dir = \"\".join(output_dir.split())\n",
        "output_dir = re.sub(r'\\W+', '', output_dir)\n",
        "\n",
        "\n",
        "# get NanoNet trained model path\n",
        "tcr_modeling = False if protein == 'Nb/mAb heavy chain' else True\n",
        "\n",
        "#@markdown ---\n",
        "#@markdown ### Advanced settings\n",
        "write_into_single_pdb_file = True #@param {type:\"boolean\"}\n",
        "# reconsrtuct_side_chains_using_modeller = True #@param {type:\"boolean\"}\n",
        "# reconsrtuct_side_chains_using_scwrl = \"\" #@param {type:\"string\"}\n",
        "##@markdown  (insert Scwrl4 executable path)\n",
        "reconsrtuct_side_chains_using_modeller = False\n",
        "reconsrtuct_side_chains_using_scwrl = False\n",
        "\n",
        "#@markdown ---\n",
        "#@markdown ### Saving options\n",
        "save_to_google_drive = False #@param {type:\"boolean\"}\n",
        "#@markdown ---\n",
        "#@markdown  to run NanoNet hit `Runtime` -> `Run all`\n",
        "\n",
        "if input_type == 'Sequence (String)':  \n",
        "  # remove whitespaces\n",
        "  input_nb = \"\".join(input_nb.split())\n",
        "  input_nb = re.sub(r'[^a-zA-Z]','', input_nb).upper()\n",
        "  with open(\"nb_fasta.fa\", \"w\") as fa_file:\n",
        "    fa_file.write(\"> model0\\n\")\n",
        "    fa_file.write(\"{}\\n\".format(input_nb))\n",
        "  input_nb = \"nb_fasta.fa\"\n",
        "\n",
        "if not os.path.exists(input_nb):\n",
        "  print(\"can't find fasta file {}.\".format(input_nb))\n",
        "\n",
        "if save_to_google_drive == True:\n",
        "  from pydrive.drive import GoogleDrive\n",
        "  from pydrive.auth import GoogleAuth\n",
        "  from google.colab import auth\n",
        "  from oauth2client.client import GoogleCredentials\n",
        "  auth.authenticate_user()\n",
        "  gauth = GoogleAuth()\n",
        "  gauth.credentials = GoogleCredentials.get_application_default()\n",
        "  drive = GoogleDrive(gauth)\n",
        "  print(\"Saving results into Drive\")"
      ],
      "execution_count": null,
      "outputs": []
    },
    {
      "cell_type": "code",
      "metadata": {
        "id": "RNK-1mcfbxSc",
        "cellView": "form"
      },
      "source": [
        "#@title Clone NanoNet trained model\n",
        "%%bash\n",
        "\n",
        "if [ ! -f NanoNetReady ]; then\n",
        "  # install dependencies\n",
        "  pip -q install biopython\n",
        "\n",
        "  # download model\n",
        "  if [ ! -d \"NanoNet/\" ]; then\n",
        "    git clone https://github.com/dina-lab3D/NanoNet --quiet\n",
        "  fi\n",
        "  touch NanoNetReady\n",
        "fi\n"
      ],
      "execution_count": null,
      "outputs": []
    },
    {
      "cell_type": "code",
      "metadata": {
        "id": "G0eJZ8YDontt",
        "cellView": "form"
      },
      "source": [
        "#@title Predict Nb structure\n",
        "\n",
        "#@title Import libraries\n",
        "os.chdir(\"/content/\")\n",
        "if \"NanoNet\" not in dir():\n",
        "  from timeit import default_timer as timer\n",
        "  import sys\n",
        "  sys.path.insert(0, '/content/NanoNet/')\n",
        "  from NanoNet import *\n",
        "\n",
        "nanonet_dir_path = \"/content/NanoNet\"\n",
        "nano_net_path = os.path.join(nanonet_dir_path, 'NanoNetTCR') if tcr_modeling else os.path.join(nanonet_dir_path, 'NanoNet')\n",
        "error = False\n",
        "\n",
        "if not os.path.exists(nano_net_path):\n",
        "    print(\"Can't find trained NanoNet '{}', aborting.\".format(nano_net_path), file=sys.stderr)\n",
        "    error = True\n",
        "if reconsrtuct_side_chains_using_scwrl and not os.path.exists(reconsrtuct_side_chains_using_scwrl):\n",
        "    print(\"Can't find Scwrl4 '{}', aborting.\".format(reconsrtuct_side_chains_using_scwrl), file=sys.stderr)\n",
        "    error = True\n",
        "if write_into_single_pdb_file and (reconsrtuct_side_chains_using_modeller or reconsrtuct_side_chains_using_scwrl):\n",
        "    print(\"Can't reconstruct side chains with single_file option.\",file=sys.stderr)\n",
        "    error = True\n",
        "\n",
        "if not error:\n",
        "    start = timer()\n",
        "    run_nanonet(input_nb, nano_net_path, write_into_single_pdb_file, output_dir, reconsrtuct_side_chains_using_modeller, reconsrtuct_side_chains_using_scwrl)\n",
        "    end = start = timer()\n",
        "    os.chdir(\"/content/\")\n",
        "    print(\"NanoNet ended succsufully, total time: {}\".format(end-start))\n"
      ],
      "execution_count": null,
      "outputs": []
    },
    {
      "cell_type": "code",
      "metadata": {
        "id": "mV6oPURycQR5",
        "cellView": "form"
      },
      "source": [
        "#@title Download results\n",
        "\n",
        "\n",
        "!zip -FSr $output_dir\".zip\" $output_dir\n",
        "files.download(f\"{output_dir}.zip\")\n",
        "\n",
        "if save_to_google_drive == True and drive != None:\n",
        "  uploaded = drive.CreateFile({'title': f\"{output_dir}.zip\"})\n",
        "  uploaded.SetContentFile(f\"{output_dir}.zip\")\n",
        "  uploaded.Upload()\n",
        "  print(f\"Uploaded {output_dir}.zip to Google Drive with ID {uploaded.get('id')}\")"
      ],
      "execution_count": null,
      "outputs": []
    }
  ]
}
